


from sklearn.datasets import fetch_california_housing
california = fetch_california_housing()
X, y = california.data, california.target
feature_names = california.feature_names


print(feature_names)


import matplotlib.pyplot as plt

for i in range(len(feature_names)):
  fig,ax = plt.subplots()
  ax.scatter(X[:,i], y)
  ax.set_xlabel(feature_names[i])
  ax.set_ylabel(california.target_names[0])
  fig.show()

