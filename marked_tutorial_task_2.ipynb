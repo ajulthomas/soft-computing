{
 "cells": [
  {
   "cell_type": "code",
   "execution_count": 133,
   "metadata": {},
   "outputs": [],
   "source": [
    "# import pandas and numpy\n",
    "import pandas as pd\n",
    "import numpy as np"
   ]
  },
  {
   "cell_type": "code",
   "execution_count": 134,
   "metadata": {},
   "outputs": [
    {
     "name": "stdout",
     "output_type": "stream",
     "text": [
      "  Sex  Length  Diameter  Height  Whole weight  Shucked weight  Viscera weight  \\\n",
      "0   M   0.455     0.365   0.095        0.5140          0.2245          0.1010   \n",
      "1   M   0.350     0.265   0.090        0.2255          0.0995          0.0485   \n",
      "2   F   0.530     0.420   0.135        0.6770          0.2565          0.1415   \n",
      "3   M   0.440     0.365   0.125        0.5160          0.2155          0.1140   \n",
      "4   I   0.330     0.255   0.080        0.2050          0.0895          0.0395   \n",
      "\n",
      "   Shell weight  Rings  \n",
      "0         0.150     15  \n",
      "1         0.070      7  \n",
      "2         0.210      9  \n",
      "3         0.155     10  \n",
      "4         0.055      7  \n"
     ]
    }
   ],
   "source": [
    "# read data from data/abalone.csv\n",
    "data = pd.read_csv('data/abalone.csv')\n",
    "\n",
    "# check df head\n",
    "print(data.head())"
   ]
  },
  {
   "cell_type": "code",
   "execution_count": 135,
   "metadata": {},
   "outputs": [
    {
     "name": "stdout",
     "output_type": "stream",
     "text": [
      "(4177, 9)\n"
     ]
    }
   ],
   "source": [
    "# check df shape\n",
    "print(data.shape)"
   ]
  },
  {
   "cell_type": "code",
   "execution_count": 136,
   "metadata": {},
   "outputs": [
    {
     "name": "stdout",
     "output_type": "stream",
     "text": [
      "Sex                object\n",
      "Length            float64\n",
      "Diameter          float64\n",
      "Height            float64\n",
      "Whole weight      float64\n",
      "Shucked weight    float64\n",
      "Viscera weight    float64\n",
      "Shell weight      float64\n",
      "Rings               int64\n",
      "dtype: object\n"
     ]
    }
   ],
   "source": [
    "# print df col names and data types\n",
    "print(data.dtypes)\n"
   ]
  },
  {
   "cell_type": "code",
   "execution_count": 137,
   "metadata": {},
   "outputs": [
    {
     "name": "stdout",
     "output_type": "stream",
     "text": [
      "Index(['sex', 'length', 'diameter', 'height', 'whole_weight', 'shucked_weight',\n",
      "       'viscera_weight', 'shell_weight', 'rings'],\n",
      "      dtype='object')\n",
      "  sex  length  diameter  height  whole_weight  shucked_weight  viscera_weight  \\\n",
      "0   M   0.455     0.365   0.095        0.5140          0.2245          0.1010   \n",
      "1   M   0.350     0.265   0.090        0.2255          0.0995          0.0485   \n",
      "2   F   0.530     0.420   0.135        0.6770          0.2565          0.1415   \n",
      "3   M   0.440     0.365   0.125        0.5160          0.2155          0.1140   \n",
      "4   I   0.330     0.255   0.080        0.2050          0.0895          0.0395   \n",
      "\n",
      "   shell_weight  rings  \n",
      "0         0.150     15  \n",
      "1         0.070      7  \n",
      "2         0.210      9  \n",
      "3         0.155     10  \n",
      "4         0.055      7  \n"
     ]
    }
   ],
   "source": [
    "# transform the colnames to lowercase and replace spaces with underscores\n",
    "data.columns = data.columns.str.lower().str.replace(' ', '_')\n",
    "\n",
    "# print colnames\n",
    "print(data.columns)\n",
    "\n",
    "# print df head\n",
    "print(data.head())"
   ]
  },
  {
   "cell_type": "code",
   "execution_count": 138,
   "metadata": {},
   "outputs": [
    {
     "name": "stdout",
     "output_type": "stream",
     "text": [
      "   length  diameter  height  whole_weight  shucked_weight  viscera_weight  \\\n",
      "0   0.455     0.365   0.095        0.5140          0.2245          0.1010   \n",
      "1   0.350     0.265   0.090        0.2255          0.0995          0.0485   \n",
      "2   0.530     0.420   0.135        0.6770          0.2565          0.1415   \n",
      "3   0.440     0.365   0.125        0.5160          0.2155          0.1140   \n",
      "4   0.330     0.255   0.080        0.2050          0.0895          0.0395   \n",
      "\n",
      "   shell_weight  rings  sex_F  sex_I  sex_M  \n",
      "0         0.150     15      0      0      1  \n",
      "1         0.070      7      0      0      1  \n",
      "2         0.210      9      1      0      0  \n",
      "3         0.155     10      0      0      1  \n",
      "4         0.055      7      0      1      0  \n",
      "(4177, 11)\n"
     ]
    }
   ],
   "source": [
    "# use one-hot encoding for the sex column pd.dummies\n",
    "data_encoded = pd.get_dummies(data, columns=['sex'])\n",
    "\n",
    "# print the head of the encoded data\n",
    "print(data_encoded.head())\n",
    "\n",
    "# shape of the encoded data\n",
    "print(data_encoded.shape)"
   ]
  },
  {
   "cell_type": "code",
   "execution_count": 139,
   "metadata": {},
   "outputs": [
    {
     "data": {
      "text/html": [
       "<div>\n",
       "<style scoped>\n",
       "    .dataframe tbody tr th:only-of-type {\n",
       "        vertical-align: middle;\n",
       "    }\n",
       "\n",
       "    .dataframe tbody tr th {\n",
       "        vertical-align: top;\n",
       "    }\n",
       "\n",
       "    .dataframe thead th {\n",
       "        text-align: right;\n",
       "    }\n",
       "</style>\n",
       "<table border=\"1\" class=\"dataframe\">\n",
       "  <thead>\n",
       "    <tr style=\"text-align: right;\">\n",
       "      <th></th>\n",
       "      <th>length</th>\n",
       "      <th>diameter</th>\n",
       "      <th>height</th>\n",
       "      <th>whole_weight</th>\n",
       "      <th>shucked_weight</th>\n",
       "      <th>viscera_weight</th>\n",
       "      <th>shell_weight</th>\n",
       "      <th>rings</th>\n",
       "      <th>sex_F</th>\n",
       "      <th>sex_I</th>\n",
       "      <th>sex_M</th>\n",
       "    </tr>\n",
       "  </thead>\n",
       "  <tbody>\n",
       "    <tr>\n",
       "      <th>0</th>\n",
       "      <td>0.455</td>\n",
       "      <td>0.365</td>\n",
       "      <td>0.095</td>\n",
       "      <td>0.5140</td>\n",
       "      <td>0.2245</td>\n",
       "      <td>0.1010</td>\n",
       "      <td>0.1500</td>\n",
       "      <td>15</td>\n",
       "      <td>0</td>\n",
       "      <td>0</td>\n",
       "      <td>1</td>\n",
       "    </tr>\n",
       "    <tr>\n",
       "      <th>1</th>\n",
       "      <td>0.350</td>\n",
       "      <td>0.265</td>\n",
       "      <td>0.090</td>\n",
       "      <td>0.2255</td>\n",
       "      <td>0.0995</td>\n",
       "      <td>0.0485</td>\n",
       "      <td>0.0700</td>\n",
       "      <td>7</td>\n",
       "      <td>0</td>\n",
       "      <td>0</td>\n",
       "      <td>1</td>\n",
       "    </tr>\n",
       "    <tr>\n",
       "      <th>2</th>\n",
       "      <td>0.530</td>\n",
       "      <td>0.420</td>\n",
       "      <td>0.135</td>\n",
       "      <td>0.6770</td>\n",
       "      <td>0.2565</td>\n",
       "      <td>0.1415</td>\n",
       "      <td>0.2100</td>\n",
       "      <td>9</td>\n",
       "      <td>1</td>\n",
       "      <td>0</td>\n",
       "      <td>0</td>\n",
       "    </tr>\n",
       "    <tr>\n",
       "      <th>3</th>\n",
       "      <td>0.440</td>\n",
       "      <td>0.365</td>\n",
       "      <td>0.125</td>\n",
       "      <td>0.5160</td>\n",
       "      <td>0.2155</td>\n",
       "      <td>0.1140</td>\n",
       "      <td>0.1550</td>\n",
       "      <td>10</td>\n",
       "      <td>0</td>\n",
       "      <td>0</td>\n",
       "      <td>1</td>\n",
       "    </tr>\n",
       "    <tr>\n",
       "      <th>4</th>\n",
       "      <td>0.330</td>\n",
       "      <td>0.255</td>\n",
       "      <td>0.080</td>\n",
       "      <td>0.2050</td>\n",
       "      <td>0.0895</td>\n",
       "      <td>0.0395</td>\n",
       "      <td>0.0550</td>\n",
       "      <td>7</td>\n",
       "      <td>0</td>\n",
       "      <td>1</td>\n",
       "      <td>0</td>\n",
       "    </tr>\n",
       "    <tr>\n",
       "      <th>...</th>\n",
       "      <td>...</td>\n",
       "      <td>...</td>\n",
       "      <td>...</td>\n",
       "      <td>...</td>\n",
       "      <td>...</td>\n",
       "      <td>...</td>\n",
       "      <td>...</td>\n",
       "      <td>...</td>\n",
       "      <td>...</td>\n",
       "      <td>...</td>\n",
       "      <td>...</td>\n",
       "    </tr>\n",
       "    <tr>\n",
       "      <th>4172</th>\n",
       "      <td>0.565</td>\n",
       "      <td>0.450</td>\n",
       "      <td>0.165</td>\n",
       "      <td>0.8870</td>\n",
       "      <td>0.3700</td>\n",
       "      <td>0.2390</td>\n",
       "      <td>0.2490</td>\n",
       "      <td>11</td>\n",
       "      <td>1</td>\n",
       "      <td>0</td>\n",
       "      <td>0</td>\n",
       "    </tr>\n",
       "    <tr>\n",
       "      <th>4173</th>\n",
       "      <td>0.590</td>\n",
       "      <td>0.440</td>\n",
       "      <td>0.135</td>\n",
       "      <td>0.9660</td>\n",
       "      <td>0.4390</td>\n",
       "      <td>0.2145</td>\n",
       "      <td>0.2605</td>\n",
       "      <td>10</td>\n",
       "      <td>0</td>\n",
       "      <td>0</td>\n",
       "      <td>1</td>\n",
       "    </tr>\n",
       "    <tr>\n",
       "      <th>4174</th>\n",
       "      <td>0.600</td>\n",
       "      <td>0.475</td>\n",
       "      <td>0.205</td>\n",
       "      <td>1.1760</td>\n",
       "      <td>0.5255</td>\n",
       "      <td>0.2875</td>\n",
       "      <td>0.3080</td>\n",
       "      <td>9</td>\n",
       "      <td>0</td>\n",
       "      <td>0</td>\n",
       "      <td>1</td>\n",
       "    </tr>\n",
       "    <tr>\n",
       "      <th>4175</th>\n",
       "      <td>0.625</td>\n",
       "      <td>0.485</td>\n",
       "      <td>0.150</td>\n",
       "      <td>1.0945</td>\n",
       "      <td>0.5310</td>\n",
       "      <td>0.2610</td>\n",
       "      <td>0.2960</td>\n",
       "      <td>10</td>\n",
       "      <td>1</td>\n",
       "      <td>0</td>\n",
       "      <td>0</td>\n",
       "    </tr>\n",
       "    <tr>\n",
       "      <th>4176</th>\n",
       "      <td>0.710</td>\n",
       "      <td>0.555</td>\n",
       "      <td>0.195</td>\n",
       "      <td>1.9485</td>\n",
       "      <td>0.9455</td>\n",
       "      <td>0.3765</td>\n",
       "      <td>0.4950</td>\n",
       "      <td>12</td>\n",
       "      <td>0</td>\n",
       "      <td>0</td>\n",
       "      <td>1</td>\n",
       "    </tr>\n",
       "  </tbody>\n",
       "</table>\n",
       "<p>4177 rows × 11 columns</p>\n",
       "</div>"
      ],
      "text/plain": [
       "      length  diameter  height  whole_weight  shucked_weight  viscera_weight  \\\n",
       "0      0.455     0.365   0.095        0.5140          0.2245          0.1010   \n",
       "1      0.350     0.265   0.090        0.2255          0.0995          0.0485   \n",
       "2      0.530     0.420   0.135        0.6770          0.2565          0.1415   \n",
       "3      0.440     0.365   0.125        0.5160          0.2155          0.1140   \n",
       "4      0.330     0.255   0.080        0.2050          0.0895          0.0395   \n",
       "...      ...       ...     ...           ...             ...             ...   \n",
       "4172   0.565     0.450   0.165        0.8870          0.3700          0.2390   \n",
       "4173   0.590     0.440   0.135        0.9660          0.4390          0.2145   \n",
       "4174   0.600     0.475   0.205        1.1760          0.5255          0.2875   \n",
       "4175   0.625     0.485   0.150        1.0945          0.5310          0.2610   \n",
       "4176   0.710     0.555   0.195        1.9485          0.9455          0.3765   \n",
       "\n",
       "      shell_weight  rings  sex_F  sex_I  sex_M  \n",
       "0           0.1500     15      0      0      1  \n",
       "1           0.0700      7      0      0      1  \n",
       "2           0.2100      9      1      0      0  \n",
       "3           0.1550     10      0      0      1  \n",
       "4           0.0550      7      0      1      0  \n",
       "...            ...    ...    ...    ...    ...  \n",
       "4172        0.2490     11      1      0      0  \n",
       "4173        0.2605     10      0      0      1  \n",
       "4174        0.3080      9      0      0      1  \n",
       "4175        0.2960     10      1      0      0  \n",
       "4176        0.4950     12      0      0      1  \n",
       "\n",
       "[4177 rows x 11 columns]"
      ]
     },
     "execution_count": 139,
     "metadata": {},
     "output_type": "execute_result"
    }
   ],
   "source": [
    "data_encoded"
   ]
  },
  {
   "cell_type": "code",
   "execution_count": 140,
   "metadata": {},
   "outputs": [
    {
     "name": "stdout",
     "output_type": "stream",
     "text": [
      "   length  diameter  height  whole_weight  shucked_weight  viscera_weight  \\\n",
      "0   0.455     0.365   0.095        0.5140          0.2245          0.1010   \n",
      "1   0.350     0.265   0.090        0.2255          0.0995          0.0485   \n",
      "2   0.530     0.420   0.135        0.6770          0.2565          0.1415   \n",
      "3   0.440     0.365   0.125        0.5160          0.2155          0.1140   \n",
      "4   0.330     0.255   0.080        0.2050          0.0895          0.0395   \n",
      "\n",
      "   shell_weight  sex_F  sex_I  sex_M  \n",
      "0         0.150      0      0      1  \n",
      "1         0.070      0      0      1  \n",
      "2         0.210      1      0      0  \n",
      "3         0.155      0      0      1  \n",
      "4         0.055      0      1      0  \n",
      "0    15\n",
      "1     7\n",
      "2     9\n",
      "3    10\n",
      "4     7\n",
      "Name: rings, dtype: int64\n",
      "(4177, 10)\n",
      "(4177,)\n"
     ]
    }
   ],
   "source": [
    "# get predictor and target variables\n",
    "X = data_encoded.loc[:, data_encoded.columns != 'rings']\n",
    "y = data_encoded['rings']\n",
    "\n",
    "# print X head\n",
    "print(X.head())\n",
    "\n",
    "# print y head\n",
    "print(y.head())\n",
    "\n",
    "\n",
    "# print x shape\n",
    "print(X.shape)\n",
    "\n",
    "# print y shape\n",
    "print(y.shape)"
   ]
  },
  {
   "cell_type": "code",
   "execution_count": 141,
   "metadata": {},
   "outputs": [],
   "source": [
    "# split the data into train and test sets\n",
    "from sklearn.model_selection import train_test_split\n",
    "\n",
    "# split the data into train_validate and test sets\n",
    "X_train_validate, X_test, y_train_validate, y_test = train_test_split(X, y, test_size=0.2, random_state=33)\n",
    "\n",
    "# split the train_validate set into train and validate sets\n",
    "X_train, X_val, y_train, y_val = train_test_split(X_train_validate, y_train_validate, test_size=0.125, random_state=33)"
   ]
  },
  {
   "cell_type": "code",
   "execution_count": 142,
   "metadata": {},
   "outputs": [
    {
     "name": "stdout",
     "output_type": "stream",
     "text": [
      "(2923, 10) (418, 10) (836, 10)\n"
     ]
    }
   ],
   "source": [
    "# shape of the train, validate and test sets\n",
    "print(X_train.shape, X_val.shape, X_test.shape)"
   ]
  },
  {
   "cell_type": "code",
   "execution_count": 143,
   "metadata": {},
   "outputs": [
    {
     "name": "stdout",
     "output_type": "stream",
     "text": [
      "length            0.8150\n",
      "diameter          0.6500\n",
      "height            1.1300\n",
      "whole_weight      2.8255\n",
      "shucked_weight    1.4880\n",
      "viscera_weight    0.7600\n",
      "shell_weight      0.8970\n",
      "sex_F             1.0000\n",
      "sex_I             1.0000\n",
      "sex_M             1.0000\n",
      "dtype: float64\n",
      "length            0.0750\n",
      "diameter          0.0550\n",
      "height            0.0000\n",
      "whole_weight      0.0020\n",
      "shucked_weight    0.0010\n",
      "viscera_weight    0.0005\n",
      "shell_weight      0.0015\n",
      "sex_F             0.0000\n",
      "sex_I             0.0000\n",
      "sex_M             0.0000\n",
      "dtype: float64\n"
     ]
    }
   ],
   "source": [
    "# check the max and min values of each column in the train set\n",
    "print(X_train.max())\n",
    "print(X_train.min())"
   ]
  },
  {
   "cell_type": "code",
   "execution_count": 144,
   "metadata": {},
   "outputs": [
    {
     "data": {
      "text/plain": [
       "<Axes: >"
      ]
     },
     "execution_count": 144,
     "metadata": {},
     "output_type": "execute_result"
    },
    {
     "data": {
      "image/png": "[encoded data removed]",
      "text/plain": [
       "<Figure size 1000x1000 with 2 Axes>"
      ]
     },
     "metadata": {},
     "output_type": "display_data"
    }
   ],
   "source": [
    "# import sns and matplotlib\n",
    "import seaborn as sns\n",
    "import matplotlib.pyplot as plt\n",
    "\n",
    "\n",
    "# plot the correlation matrix\n",
    "plt.figure(figsize=(10, 10))\n",
    "sns.heatmap(data_encoded.corr(), annot=True, cmap='viridis', fmt='.2f')"
   ]
  },
  {
   "cell_type": "markdown",
   "metadata": {},
   "source": [
    "#### Observations\n",
    "\n",
    "- all features have a positive linear correlation with rings\n",
    "- all other variables are highly correlated with each other"
   ]
  },
  {
   "cell_type": "code",
   "execution_count": 145,
   "metadata": {},
   "outputs": [],
   "source": [
    "# scale the data\n",
    "from sklearn.preprocessing import StandardScaler\n",
    "\n",
    "scaler = StandardScaler().fit(X_train)\n",
    "X_train_scaled = scaler.transform(X_train)\n",
    "X_val_scaled = scaler.transform(X_val)\n",
    "X_test_scaled = scaler.transform(X_test)\n"
   ]
  },
  {
   "cell_type": "code",
   "execution_count": 146,
   "metadata": {},
   "outputs": [],
   "source": [
    "X_train_scaled = pd.DataFrame(X_train_scaled, columns=X_train.columns)\n",
    "X_val_scaled = pd.DataFrame(X_val_scaled, columns=X_val.columns)\n",
    "X_test_scaled = pd.DataFrame(X_test_scaled, columns=X_test.columns)"
   ]
  },
  {
   "cell_type": "code",
   "execution_count": 147,
   "metadata": {},
   "outputs": [
    {
     "name": "stdout",
     "output_type": "stream",
     "text": [
      "(2923, 10) (418, 10) (836, 10)\n"
     ]
    }
   ],
   "source": [
    "# check shape of the scaled data\n",
    "print(X_train_scaled.shape, X_val_scaled.shape, X_test_scaled.shape)"
   ]
  },
  {
   "cell_type": "code",
   "execution_count": 148,
   "metadata": {},
   "outputs": [],
   "source": [
    "from sklearn.neural_network import MLPRegressor\n",
    "# import mse from sklearn\n",
    "from sklearn.metrics import mean_squared_error\n",
    "\n",
    "def train_model(id, hyper_params, train_X, test_x, val_X):\n",
    "    # train the model\n",
    "    mlp_regressor = MLPRegressor(**hyper_params).fit(train_X, y_train)\n",
    "    # predict the target on the train, validation and test sets\n",
    "    y_train_pred = mlp_regressor.predict(train_X)\n",
    "    y_val_pred = mlp_regressor.predict(val_X)\n",
    "    y_test_pred = mlp_regressor.predict(test_x)\n",
    "    # calculate the mean squared error on the train and validation sets\n",
    "    train_score = mean_squared_error(y_train, y_train_pred)\n",
    "    val_score = mean_squared_error(y_val, y_val_pred)\n",
    "    test_score = mean_squared_error(y_test, y_test_pred)\n",
    "    return {\n",
    "        'id': id,\n",
    "        'hidden_layers': mlp_regressor.n_layers_ - 2,\n",
    "        'architecture': mlp_regressor.hidden_layer_sizes,\n",
    "        'activation': mlp_regressor.activation,\n",
    "        'batch_size': mlp_regressor.batch_size,\n",
    "        'solver':   mlp_regressor.solver,\n",
    "        'learning_rate_init': mlp_regressor.learning_rate_init,\n",
    "        'learning_rate':    mlp_regressor.learning_rate,\n",
    "        'iterations': mlp_regressor.n_iter_,\n",
    "        'train_score': train_score,\n",
    "        'val_score': val_score,\n",
    "        'test_score': test_score,\n",
    "    }"
   ]
  },
  {
   "cell_type": "code",
   "execution_count": 210,
   "metadata": {},
   "outputs": [
    {
     "name": "stdout",
     "output_type": "stream",
     "text": [
      "Training model 0, with hyper params: {'verbose': False, 'random_state': 33, 'hidden_layer_sizes': (12, 15, 15, 12), 'activation': 'tanh', 'batch_size': 25}\n",
      "Training model 0, with hyper params: {'verbose': False, 'random_state': 33, 'hidden_layer_sizes': (12, 15, 15, 12), 'activation': 'tanh', 'batch_size': 25} completed\n",
      "Training model 1, with hyper params: {'verbose': False, 'random_state': 33, 'hidden_layer_sizes': (12, 15, 15, 12), 'activation': 'tanh', 'batch_size': 50}\n",
      "Training model 1, with hyper params: {'verbose': False, 'random_state': 33, 'hidden_layer_sizes': (12, 15, 15, 12), 'activation': 'tanh', 'batch_size': 50} completed\n",
      "Training model 2, with hyper params: {'verbose': False, 'random_state': 33, 'hidden_layer_sizes': (12, 15, 15, 12), 'activation': 'tanh', 'batch_size': 100}\n"
     ]
    },
    {
     "name": "stderr",
     "output_type": "stream",
     "text": [
      "c:\\ProgramData\\Anaconda3\\Lib\\site-packages\\sklearn\\neural_network\\_multilayer_perceptron.py:691: ConvergenceWarning: Stochastic Optimizer: Maximum iterations (200) reached and the optimization hasn't converged yet.\n",
      "  warnings.warn(\n"
     ]
    },
    {
     "name": "stdout",
     "output_type": "stream",
     "text": [
      "Training model 2, with hyper params: {'verbose': False, 'random_state': 33, 'hidden_layer_sizes': (12, 15, 15, 12), 'activation': 'tanh', 'batch_size': 100} completed\n",
      "Training model 3, with hyper params: {'verbose': False, 'random_state': 33, 'hidden_layer_sizes': (12, 15, 15, 12), 'activation': 'tanh', 'batch_size': 200}\n",
      "Training model 3, with hyper params: {'verbose': False, 'random_state': 33, 'hidden_layer_sizes': (12, 15, 15, 12), 'activation': 'tanh', 'batch_size': 200} completed\n"
     ]
    },
    {
     "name": "stderr",
     "output_type": "stream",
     "text": [
      "c:\\ProgramData\\Anaconda3\\Lib\\site-packages\\sklearn\\neural_network\\_multilayer_perceptron.py:691: ConvergenceWarning: Stochastic Optimizer: Maximum iterations (200) reached and the optimization hasn't converged yet.\n",
      "  warnings.warn(\n"
     ]
    },
    {
     "data": {
      "text/html": [
       "<div>\n",
       "<style scoped>\n",
       "    .dataframe tbody tr th:only-of-type {\n",
       "        vertical-align: middle;\n",
       "    }\n",
       "\n",
       "    .dataframe tbody tr th {\n",
       "        vertical-align: top;\n",
       "    }\n",
       "\n",
       "    .dataframe thead th {\n",
       "        text-align: right;\n",
       "    }\n",
       "</style>\n",
       "<table border=\"1\" class=\"dataframe\">\n",
       "  <thead>\n",
       "    <tr style=\"text-align: right;\">\n",
       "      <th></th>\n",
       "      <th>id</th>\n",
       "      <th>hidden_layers</th>\n",
       "      <th>architecture</th>\n",
       "      <th>activation</th>\n",
       "      <th>batch_size</th>\n",
       "      <th>solver</th>\n",
       "      <th>learning_rate_init</th>\n",
       "      <th>learning_rate</th>\n",
       "      <th>iterations</th>\n",
       "      <th>train_score</th>\n",
       "      <th>val_score</th>\n",
       "      <th>test_score</th>\n",
       "    </tr>\n",
       "  </thead>\n",
       "  <tbody>\n",
       "    <tr>\n",
       "      <th>0</th>\n",
       "      <td>0</td>\n",
       "      <td>4</td>\n",
       "      <td>(12, 15, 15, 12)</td>\n",
       "      <td>tanh</td>\n",
       "      <td>25</td>\n",
       "      <td>adam</td>\n",
       "      <td>0.001</td>\n",
       "      <td>constant</td>\n",
       "      <td>86</td>\n",
       "      <td>3.988048</td>\n",
       "      <td>4.218133</td>\n",
       "      <td>4.898343</td>\n",
       "    </tr>\n",
       "    <tr>\n",
       "      <th>1</th>\n",
       "      <td>1</td>\n",
       "      <td>4</td>\n",
       "      <td>(12, 15, 15, 12)</td>\n",
       "      <td>tanh</td>\n",
       "      <td>50</td>\n",
       "      <td>adam</td>\n",
       "      <td>0.001</td>\n",
       "      <td>constant</td>\n",
       "      <td>126</td>\n",
       "      <td>3.974708</td>\n",
       "      <td>4.274026</td>\n",
       "      <td>4.734973</td>\n",
       "    </tr>\n",
       "    <tr>\n",
       "      <th>2</th>\n",
       "      <td>2</td>\n",
       "      <td>4</td>\n",
       "      <td>(12, 15, 15, 12)</td>\n",
       "      <td>tanh</td>\n",
       "      <td>100</td>\n",
       "      <td>adam</td>\n",
       "      <td>0.001</td>\n",
       "      <td>constant</td>\n",
       "      <td>200</td>\n",
       "      <td>3.985590</td>\n",
       "      <td>4.230096</td>\n",
       "      <td>4.699525</td>\n",
       "    </tr>\n",
       "    <tr>\n",
       "      <th>3</th>\n",
       "      <td>3</td>\n",
       "      <td>4</td>\n",
       "      <td>(12, 15, 15, 12)</td>\n",
       "      <td>tanh</td>\n",
       "      <td>200</td>\n",
       "      <td>adam</td>\n",
       "      <td>0.001</td>\n",
       "      <td>constant</td>\n",
       "      <td>200</td>\n",
       "      <td>4.226485</td>\n",
       "      <td>4.131544</td>\n",
       "      <td>4.998145</td>\n",
       "    </tr>\n",
       "  </tbody>\n",
       "</table>\n",
       "</div>"
      ],
      "text/plain": [
       "   id  hidden_layers      architecture activation  batch_size solver  \\\n",
       "0   0              4  (12, 15, 15, 12)       tanh          25   adam   \n",
       "1   1              4  (12, 15, 15, 12)       tanh          50   adam   \n",
       "2   2              4  (12, 15, 15, 12)       tanh         100   adam   \n",
       "3   3              4  (12, 15, 15, 12)       tanh         200   adam   \n",
       "\n",
       "   learning_rate_init learning_rate  iterations  train_score  val_score  \\\n",
       "0               0.001      constant          86     3.988048   4.218133   \n",
       "1               0.001      constant         126     3.974708   4.274026   \n",
       "2               0.001      constant         200     3.985590   4.230096   \n",
       "3               0.001      constant         200     4.226485   4.131544   \n",
       "\n",
       "   test_score  \n",
       "0    4.898343  \n",
       "1    4.734973  \n",
       "2    4.699525  \n",
       "3    4.998145  "
      ]
     },
     "execution_count": 210,
     "metadata": {},
     "output_type": "execute_result"
    }
   ],
   "source": [
    "# hyper params\n",
    "hyper_param_options = [\n",
    "    { 'verbose': False, 'random_state': 33, 'hidden_layer_sizes': (12, 15, 15, 12), 'activation': 'tanh', 'batch_size': 25 },\n",
    "    { 'verbose': False, 'random_state': 33, 'hidden_layer_sizes': (12, 15, 15, 12), 'activation': 'tanh', 'batch_size': 50 },\n",
    "    { 'verbose': False, 'random_state': 33, 'hidden_layer_sizes': (12, 15, 15, 12), 'activation': 'tanh', 'batch_size': 100 },\n",
    "    { 'verbose': False, 'random_state': 33, 'hidden_layer_sizes': (12, 15, 15, 12), 'activation': 'tanh', 'batch_size': 200 },\n",
    "]\n",
    "\n",
    "\n",
    "# select features\n",
    "# ['length', 'diameter', 'height', 'whole_weight', 'shucked_weight', 'viscera_weight', 'shell_weight', 'sex_F', 'sex_I', 'sex_M']\n",
    "\n",
    "selected_features = [ 'length', 'diameter', 'whole_weight', 'shucked_weight', 'viscera_weight', 'shell_weight',  'sex_F', 'sex_I', 'sex_M']  \n",
    "\n",
    "observations_df = pd.DataFrame()\n",
    "\n",
    "for index,hyper_param_option in enumerate(hyper_param_options):\n",
    "    print(f\"Training model {index}, with hyper params: {hyper_param_option}\")\n",
    "    result = train_model(index, hyper_param_option, X_train_scaled[selected_features], X_test_scaled[selected_features], X_val_scaled[selected_features])\n",
    "    result_df = pd.DataFrame([result])\n",
    "    observations_df = pd.concat([observations_df, result_df], ignore_index=True)  \n",
    "    print(f\"Training model {index}, with hyper params: {hyper_param_option} completed\")\n",
    "    # print(\"Test results: \", observations_df.iloc[index])\n",
    "\n",
    "observations_df.to_csv('./data/observations_task2_final2.csv', index=False)\n",
    "\n",
    "observations_df"
   ]
  },
  {
   "cell_type": "markdown",
   "metadata": {},
   "source": []
  }
 ],
 "metadata": {
  "kernelspec": {
   "display_name": "base",
   "language": "python",
   "name": "python3"
  },
  "language_info": {
   "codemirror_mode": {
    "name": "ipython",
    "version": 3
   },
   "file_extension": ".py",
   "mimetype": "text/x-python",
   "name": "python",
   "nbconvert_exporter": "python",
   "pygments_lexer": "ipython3",
   "version": "3.11.4"
  }
 },
 "nbformat": 4,
 "nbformat_minor": 2
}
