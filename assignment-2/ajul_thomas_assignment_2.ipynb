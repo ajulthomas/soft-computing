{
 "cells": [
  {
   "cell_type": "markdown",
   "metadata": {},
   "source": [
    "## Assignment 2\n",
    "\n",
    "## Soft Computing PG (7197)\n",
    "\n",
    "## Semester 2 - 2024\n",
    "\n",
    "#### Task Description\n",
    "\n",
    "We have a company with 80 employees and 50 departments. Each department receives certain types of job requests from clients. Fast processing of job requests is important for customer retention. As such, we need to find the optimal assignment of the employees to the departments to minimise the average time a client waits before their job requests are finished. Also, to avoid poor reviews from angry clients, we need to minimise the maximum time any client might have to wait before their jobs are finished.\n",
    "\n",
    "We don’t have data about the expected numbers of clients for each department. However, we have a simulator that simulates the operation of the company for a given assignment of employees.\n"
   ]
  },
  {
   "cell_type": "markdown",
   "metadata": {},
   "source": [
    "### Objectives\n",
    "\n",
    "- Minimise the average waiting time (importance 80%)\n",
    "- Minimise the maximum waiting time (importance 20%)\n",
    "\n",
    "## Solution Design using genetic Algorithm\n",
    "\n",
    "1. Genetic Representation of the solution\n",
    "\n",
    "2. Function to generate new solutions\n",
    "\n",
    "3. Fitness Function\n",
    "\n",
    "4. Selection Function\n",
    "\n",
    "5. Crossover Function\n",
    "\n",
    "6. Mutation Function\n"
   ]
  },
  {
   "cell_type": "markdown",
   "metadata": {},
   "source": [
    "1. Genetic Representation of the solution\n",
    "\n",
    "---\n",
    "\n",
    "The genetic representation of a solution for the given problem would be the optimal allocation of employees to the different departments so that the average and maximum waiting time is minimized. The genome would be an array of length 50, representing 50 departments, and the value in the array represents the number of employees allocated.\n"
   ]
  },
  {
   "cell_type": "markdown",
   "metadata": {},
   "source": [
    "2. Function to generate new solutions\n",
    "\n",
    "---\n"
   ]
  },
  {
   "cell_type": "markdown",
   "metadata": {},
   "source": [
    "3. Fitness of the solution\n",
    "\n",
    "---\n"
   ]
  },
  {
   "cell_type": "markdown",
   "metadata": {},
   "source": [
    "#### REFERENCES\n",
    "\n",
    "[1] https://github.com/emre-kocyigit/knapsack_genetic_algorithm\n",
    "\n",
    "[2] https://youtu.be/nhT56blfRpE?feature=shared\n",
    "\n",
    "[3] https://youtu.be/qer3T7swA2M?feature=shared\n",
    "\n",
    "[4] https://youtube.com/playlist?list=PLL61h44ln0J0Pbs2EPR71wn-8wvwxHI9z&feature=shared\n"
   ]
  },
  {
   "cell_type": "markdown",
   "metadata": {},
   "source": [
    "<iframe width=\"560\" height=\"315\" src=\"https://www.youtube.com/embed/qer3T7swA2M?si=C90pKKyu6pmP-BK8\" title=\"YouTube video player\" frameborder=\"0\" allow=\"accelerometer; autoplay; clipboard-write; encrypted-media; gyroscope; picture-in-picture; web-share\" referrerpolicy=\"strict-origin-when-cross-origin\" allowfullscreen></iframe>\n",
    "\n",
    "<iframe width=\"560\" height=\"315\" src=\"https://www.youtube.com/embed/videoseries?si=K601-gl_Rx3AuvDy&amp;list=PLL61h44ln0J0Pbs2EPR71wn-8wvwxHI9z\" title=\"YouTube video player\" frameborder=\"0\" allow=\"accelerometer; autoplay; clipboard-write; encrypted-media; gyroscope; picture-in-picture; web-share\" referrerpolicy=\"strict-origin-when-cross-origin\" allowfullscreen></iframe>\n"
   ]
  }
 ],
 "metadata": {
  "language_info": {
   "name": "python"
  }
 },
 "nbformat": 4,
 "nbformat_minor": 2
}
