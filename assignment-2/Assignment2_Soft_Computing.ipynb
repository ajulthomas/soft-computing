{
  "nbformat": 4,
  "nbformat_minor": 0,
  "metadata": {
    "colab": {
      "provenance": []
    },
    "kernelspec": {
      "name": "python3",
      "display_name": "Python 3"
    },
    "language_info": {
      "name": "python"
    }
  },
  "cells": [
    {
      "cell_type": "markdown",
      "source": [
        "# Example using the simulator:"
      ],
      "metadata": {
        "id": "9P-qfoFcxiha"
      }
    },
    {
      "cell_type": "code",
      "execution_count": 5,
      "metadata": {
        "id": "jnGlkLvDxG0-"
      },
      "outputs": [],
      "source": [
        "import service_simulator\n",
        "import numpy as np\n",
        "\n",
        "\n",
        "employee_setting = [1 for j in range(50)]\n",
        "employee_setting[0] = 31\n",
        "_x, wait_times_per_service = service_simulator.init_and_simulate(employee_setting)"
      ]
    },
    {
      "cell_type": "markdown",
      "source": [
        "# Example calculating the mean & maximum waiting time for the above employee assignment"
      ],
      "metadata": {
        "id": "snXWnRZNxXEo"
      }
    },
    {
      "cell_type": "code",
      "source": [
        "sums = [np.sum(wait_times_per_service[j]) for j in range(len(wait_times_per_service))]\n",
        "counts = [len(wait_times_per_service[j]) for j in range(len(wait_times_per_service))]\n",
        "print('Mean waiting time for all services', np.sum(sums)/np.sum(counts))\n",
        "\n",
        "maximums= [np.max(wait_times_per_service[j]) for j in range(len(wait_times_per_service))]\n",
        "print('Max time waited by a customer', np.max(maximums))\n"
      ],
      "metadata": {
        "colab": {
          "base_uri": "https://localhost:8080/"
        },
        "id": "Zvh8zPTlxLzS",
        "outputId": "0e1830a9-ddb4-4739-b6e8-f7aa8540aed3"
      },
      "execution_count": 6,
      "outputs": [
        {
          "output_type": "stream",
          "name": "stdout",
          "text": [
            "Mean waiting time for all services 114.19251467710372\n",
            "Max time waited by a customer 906\n"
          ]
        }
      ]
    },
    {
      "cell_type": "markdown",
      "source": [
        "# Example calculating mean & max waiting time per service"
      ],
      "metadata": {
        "id": "ahmB9mrJxbLh"
      }
    },
    {
      "cell_type": "code",
      "source": [
        "\n",
        "for j in range(len(wait_times_per_service)):\n",
        "  print(\"Service \", j, \" Mean waiting time: \", np.round(np.mean(wait_times_per_service[j]),3), \" Max waiting time : \", np.max(wait_times_per_service[j]))\n",
        ""
      ],
      "metadata": {
        "colab": {
          "base_uri": "https://localhost:8080/"
        },
        "id": "V8XWaBxyxbgK",
        "outputId": "97fc3f2b-b1bd-463d-ed28-132814c69fee"
      },
      "execution_count": 7,
      "outputs": [
        {
          "output_type": "stream",
          "name": "stdout",
          "text": [
            "Service  0  Mean waiting time:  1.793  Max waiting time :  12\n",
            "Service  1  Mean waiting time:  34.746  Max waiting time :  111\n",
            "Service  2  Mean waiting time:  51.226  Max waiting time :  135\n",
            "Service  3  Mean waiting time:  1.587  Max waiting time :  7\n",
            "Service  4  Mean waiting time:  226.575  Max waiting time :  456\n",
            "Service  5  Mean waiting time:  7.598  Max waiting time :  29\n",
            "Service  6  Mean waiting time:  77.916  Max waiting time :  168\n",
            "Service  7  Mean waiting time:  2.554  Max waiting time :  9\n",
            "Service  8  Mean waiting time:  349.302  Max waiting time :  661\n",
            "Service  9  Mean waiting time:  276.039  Max waiting time :  519\n",
            "Service  10  Mean waiting time:  2.667  Max waiting time :  19\n",
            "Service  11  Mean waiting time:  31.875  Max waiting time :  81\n",
            "Service  12  Mean waiting time:  1.391  Max waiting time :  6\n",
            "Service  13  Mean waiting time:  8.144  Max waiting time :  34\n",
            "Service  14  Mean waiting time:  5.823  Max waiting time :  26\n",
            "Service  15  Mean waiting time:  3.106  Max waiting time :  20\n",
            "Service  16  Mean waiting time:  4.929  Max waiting time :  23\n",
            "Service  17  Mean waiting time:  109.207  Max waiting time :  264\n",
            "Service  18  Mean waiting time:  98.451  Max waiting time :  154\n",
            "Service  19  Mean waiting time:  442.717  Max waiting time :  890\n",
            "Service  20  Mean waiting time:  246.558  Max waiting time :  523\n",
            "Service  21  Mean waiting time:  91.464  Max waiting time :  144\n",
            "Service  22  Mean waiting time:  272.428  Max waiting time :  557\n",
            "Service  23  Mean waiting time:  5.667  Max waiting time :  23\n",
            "Service  24  Mean waiting time:  1.4  Max waiting time :  5\n",
            "Service  25  Mean waiting time:  7.615  Max waiting time :  28\n",
            "Service  26  Mean waiting time:  2.472  Max waiting time :  18\n",
            "Service  27  Mean waiting time:  25.973  Max waiting time :  78\n",
            "Service  28  Mean waiting time:  113.955  Max waiting time :  200\n",
            "Service  29  Mean waiting time:  437.079  Max waiting time :  804\n",
            "Service  30  Mean waiting time:  243.128  Max waiting time :  479\n",
            "Service  31  Mean waiting time:  430.299  Max waiting time :  761\n",
            "Service  32  Mean waiting time:  2.504  Max waiting time :  14\n",
            "Service  33  Mean waiting time:  59.044  Max waiting time :  116\n",
            "Service  34  Mean waiting time:  2.526  Max waiting time :  12\n",
            "Service  35  Mean waiting time:  3.869  Max waiting time :  17\n",
            "Service  36  Mean waiting time:  1.656  Max waiting time :  8\n",
            "Service  37  Mean waiting time:  157.304  Max waiting time :  300\n",
            "Service  38  Mean waiting time:  432.508  Max waiting time :  906\n",
            "Service  39  Mean waiting time:  5.726  Max waiting time :  24\n",
            "Service  40  Mean waiting time:  305.49  Max waiting time :  591\n",
            "Service  41  Mean waiting time:  187.611  Max waiting time :  318\n",
            "Service  42  Mean waiting time:  3.403  Max waiting time :  15\n",
            "Service  43  Mean waiting time:  4.083  Max waiting time :  14\n",
            "Service  44  Mean waiting time:  314.0  Max waiting time :  648\n",
            "Service  45  Mean waiting time:  366.219  Max waiting time :  724\n",
            "Service  46  Mean waiting time:  112.495  Max waiting time :  222\n",
            "Service  47  Mean waiting time:  2.344  Max waiting time :  10\n",
            "Service  48  Mean waiting time:  159.53  Max waiting time :  273\n",
            "Service  49  Mean waiting time:  201.654  Max waiting time :  398\n"
          ]
        }
      ]
    },
    {
      "cell_type": "markdown",
      "source": [
        "# You best employee assignment should be provided to us in this format:\n",
        "\n",
        "Best employee assignment:\n",
        "[31, 1, 1, 1, 1, 1, 1, 1, 1, 1, 1, 1, 1, 1, 1, 1, 1, 1, 1, 1, 1, 1, 1, 1, 1, 1, 1, 1, 1, 1, 1, 1, 1, 1, 1, 1, 1, 1, 1, 1, 1, 1, 1, 1, 1, 1, 1, 1, 1, 1]\n"
      ],
      "metadata": {
        "id": "a2HApxqKyhqO"
      }
    },
    {
      "cell_type": "markdown",
      "source": [
        "# This is how we will test the performance of your best employee assignment"
      ],
      "metadata": {
        "id": "BddkB3fqy_MY"
      }
    },
    {
      "cell_type": "code",
      "source": [
        "employee_setting = [31, 1, 1, 1, 1, 1, 1, 1, 1, 1, 1, 1, 1, 1, 1, 1, 1, 1, 1, 1, 1, 1, 1, 1, 1, 1, 1, 1, 1, 1, 1, 1, 1, 1, 1, 1, 1, 1, 1, 1, 1, 1, 1, 1, 1, 1, 1, 1, 1, 1]\n",
        "means = [0 for _ in range(10)]\n",
        "maxs = [0 for _ in range(10)]\n",
        "for _ in range(10):\n",
        "  _x, wait_times_per_service = service_simulator.init_and_simulate(employee_setting)\n",
        "  sums = [np.sum(wait_times_per_service[j]) for j in range(len(wait_times_per_service))]\n",
        "  counts = [len(wait_times_per_service[j]) for j in range(len(wait_times_per_service))]\n",
        "  maximums= [np.max(wait_times_per_service[j]) for j in range(len(wait_times_per_service))]\n",
        "  means[_] =  np.sum(sums)/np.sum(counts)\n",
        "  maxs[_] = np.max(maximums)\n",
        "\n",
        "print(means)\n",
        "print(maxs)\n",
        "print(\"Mean waiting time averaged over 10 simulations : \", np.mean(means))\n",
        "print(\"Max waiting time  averaged over 10 simulations : \", np.mean(maxs))"
      ],
      "metadata": {
        "colab": {
          "base_uri": "https://localhost:8080/"
        },
        "id": "TzdA5OFsyrRH",
        "outputId": "5a21145b-9c8b-49b2-f69a-b2162f5d1156"
      },
      "execution_count": 11,
      "outputs": [
        {
          "output_type": "stream",
          "name": "stdout",
          "text": [
            "[110.2119560729915, 105.34230831056101, 109.58714262639315, 111.91659805697348, 107.91503107621851, 119.42574338754723, 110.39005235602095, 110.02270843693022, 114.40019803614159, 108.61423405654175]\n",
            "[885, 891, 897, 928, 916, 895, 887, 918, 891, 890]\n",
            "Mean waiting time:  110.78259724163192\n",
            "Max waiting time:  899.8\n"
          ]
        }
      ]
    }
  ]
}