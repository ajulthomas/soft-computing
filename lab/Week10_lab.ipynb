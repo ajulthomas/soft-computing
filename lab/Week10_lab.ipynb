{
 "cells": [
  {
   "cell_type": "markdown",
   "metadata": {
    "id": "dnkSkZpzr4KH"
   },
   "source": [
    "# Week 10 Lab\n"
   ]
  },
  {
   "cell_type": "markdown",
   "metadata": {
    "id": "N2LcqEGLmlBm"
   },
   "source": [
    "# **The Kanpsack Problem**\n",
    "\n",
    "The knapsack problem is a classical optimisation problem thet has been studied for more than a century. The statement of the problem is as follows: Given a set of items, each with a weight and a value, collect a combination of items with the largest value, such that the weight of the sollection has to be limited by a given capacity.\n",
    "\n",
    "![image.png](data:image/png;base64,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)\n",
    "\n",
    "The brute force solution to this problem works by calculating the weight and value of all possible combinations and pick the combination with the maximum value and wight <= capacity. The computational complexity of this brute force solution is exponential!!\n",
    "Using genetic algorithms, we can find very good solutions (near optimal) very efficiently. In this lab, we will learn how to do this.\n"
   ]
  },
  {
   "cell_type": "markdown",
   "metadata": {
    "id": "cXQhg9mMr8Qn"
   },
   "source": [
    "# Problem formulation\n",
    "\n",
    "- Gene: an item represented by weight & value\n",
    "- Individual (“chromosome”): a sack including a combination of items\n",
    "- Population: a collection of possible sacks (i.e., collection of individuals)\n",
    "- Parents: two individuals that are combined to create a new individual\n",
    "- Fitness: a function that tells us how good each individual (i.e., sack) is\n",
    "- Mutation: a way to introduce variation in our population by randomly changing the inclusion of one item in a sack\n"
   ]
  },
  {
   "cell_type": "markdown",
   "metadata": {
    "id": "Ukokt7--t70f"
   },
   "source": [
    "# Steps\n",
    "\n",
    "Our GA will proceed in the following steps:\n",
    "\n",
    "1. Create the population\n",
    "2. Determine fitness of each individual in the population\n",
    "3. Select parents to form the mating pool for the next generation\n",
    "4. Breed to get new children (individuals of next generation)\n",
    "5. Mutate childern to introduce vaiations\n",
    "6. Repeat steps 2-5 till the maximum number of generations is reached or till no better individuals can be produced\n"
   ]
  },
  {
   "cell_type": "code",
   "execution_count": 2,
   "metadata": {
    "id": "Dvk5a-7h-4sp"
   },
   "outputs": [],
   "source": [
    "import random\n",
    "import sys\n",
    "import operator\n",
    "import matplotlib.pyplot as plt\n",
    "\n",
    "\n",
    "# an item is represented by weight & value\n",
    "# This is the gene\n",
    "class Item(object):\n",
    "    def __init__(self, value, weight, name=\"\"):\n",
    "        self.name = name\n",
    "        self.value = value\n",
    "        self.weight = weight\n",
    "\n",
    "\n",
    "class Knapsack(object):\n",
    "\n",
    "    # initialize variables and lists\n",
    "    def __init__(\n",
    "        self,\n",
    "        itemList,\n",
    "        capacity,\n",
    "        populationSize,\n",
    "        numGenerations,\n",
    "        patience=20,\n",
    "        verbose=False,\n",
    "    ):\n",
    "        self.itemList = itemList\n",
    "        self.capacity = capacity\n",
    "        self.populationSize = populationSize\n",
    "        self.verbose = verbose\n",
    "\n",
    "        self.population = []\n",
    "        self.fitness = []\n",
    "        self.parents = []\n",
    "        self.numGenerations = numGenerations\n",
    "        self.patience = patience\n",
    "        self.patienceCounter = 0\n",
    "        self.bestFitness = -1000000\n",
    "        self.bestfoundAt = -1\n",
    "        self.bestIndividual = None\n",
    "        self.listOfBestFitness = []\n",
    "\n",
    "        self.initialisePopulation()\n",
    "        print(\"finished intitialisation\")\n",
    "\n",
    "    # Step number 1: create the individuals in the initial population\n",
    "    def initialisePopulation(self):\n",
    "        for i in range(self.populationSize):\n",
    "            individual = []\n",
    "            for k in range(0, len(self.itemList)):\n",
    "                k = random.randint(0, 1)\n",
    "                individual.append(k)\n",
    "            self.population.append(individual)\n",
    "\n",
    "    # Step 2: calculate fittness\n",
    "    def evaluation(self, generationNumber):\n",
    "        # loop through individuals and calculate fitness\n",
    "        for i in range(len(self.population)):\n",
    "            ft = self.calcFitness(self.population[i])\n",
    "            self.fitness.append((ft, self.population[i]))\n",
    "\n",
    "        # sort the fitness list by fitness\n",
    "        self.fitness.sort(key=operator.itemgetter(0), reverse=True)\n",
    "        if self.fitness[0][0] > self.bestFitness:\n",
    "            self.bestFitness = self.fitness[0][0]\n",
    "            self.bestIndividual = self.fitness[0][1]\n",
    "            self.bestfoundAt = generationNumber\n",
    "            self.patienceCounter = 0\n",
    "\n",
    "    # Step 2 continued - calculate the fitness of a given individual (sack)\n",
    "    def calcFitness(self, sack):\n",
    "        # print(sack)\n",
    "        sum_w = 0  # sum of weights of items in the sack\n",
    "        sum_v = 0  # sum of values of items in the sack\n",
    "\n",
    "        # calculate sum of weights and values\n",
    "        for i in range(len(sack)):\n",
    "            sum_w += sack[i] * self.itemList[i].weight\n",
    "            sum_v += sack[i] * self.itemList[i].value\n",
    "\n",
    "        if sum_w > self.capacity:  # --> not valid solution so retun fitness of -1\n",
    "            return -1\n",
    "        else:  # fitness = sum of item values in the sack\n",
    "            return sum_v\n",
    "\n",
    "        # Step 3 select parents to form the mating pool\n",
    "\n",
    "    def selectParents(self):\n",
    "        numElites = self.populationSize // 4\n",
    "        numParents = numElites * 2\n",
    "        self.parents = [x[1] for x in self.fitness[:numElites]]\n",
    "        otherParentsIndecies = random.sample(\n",
    "            range(numElites, numParents), numParents - numElites\n",
    "        )\n",
    "        for i in otherParentsIndecies:\n",
    "            self.parents.append(self.fitness[i][1])\n",
    "\n",
    "    # Step 4 breeding via crossover of two parents to produce two children\n",
    "    def crossover(self, sack1, sack2):\n",
    "        threshold = random.randint(0, len(sack1))\n",
    "        tmp1 = sack1[threshold:]\n",
    "        tmp2 = sack2[threshold:]\n",
    "        sack1 = sack1[:threshold]\n",
    "        sack2 = sack2[:threshold]\n",
    "        sack1.extend(tmp2)\n",
    "        sack2.extend(tmp1)\n",
    "\n",
    "        return sack1, sack2\n",
    "\n",
    "    # Step 5 mutate child\n",
    "    def mutation(self, sack):\n",
    "        for i in range(len(sack)):\n",
    "            k = random.uniform(0, 1)\n",
    "            if k > 0.8:\n",
    "                if sack[i] == 1:\n",
    "                    sack[i] = 0\n",
    "                else:\n",
    "                    sack[i] = 1\n",
    "        return sack\n",
    "\n",
    "    # run all the steps of the GA algorithms for a given numGenerations\n",
    "    def run(self):\n",
    "\n",
    "        for g in range(self.numGenerations):\n",
    "            self.evaluation(g)\n",
    "            self.selectParents()\n",
    "            newPopulation = []\n",
    "\n",
    "            for i in range(self.populationSize):\n",
    "                [parent1Indx, parent2Indx] = random.sample(\n",
    "                    range(0, len(self.parents)), 2\n",
    "                )\n",
    "                child1, child2 = self.crossover(\n",
    "                    self.parents[parent1Indx], self.parents[parent2Indx]\n",
    "                )\n",
    "                newPopulation.append(child1)\n",
    "                newPopulation.append(child2)\n",
    "\n",
    "            # mutate the new children\n",
    "            for i in range(len(newPopulation)):\n",
    "                newPopulation[i] = self.mutation(newPopulation[i])\n",
    "            self.patienceCounter += 1\n",
    "            self.listOfBestFitness.append(self.bestFitness)\n",
    "            if self.patienceCounter == self.patience:\n",
    "                print(\"Stopped after {} generations\".format(g))\n",
    "                break\n",
    "\n",
    "            else:\n",
    "                if g % 10 == 0 and self.verbose:\n",
    "                    print(\n",
    "                        \"Generation {} Best fitness so far {} ; found at generation {}\".format(\n",
    "                            g, self.bestFitness, self.bestfoundAt\n",
    "                        )\n",
    "                    )\n",
    "\n",
    "                self.population = newPopulation\n",
    "                self.fitness = []\n",
    "                self.parents = []\n",
    "        print(\n",
    "            \"Best individual is {} ; fitness value is {} ; found at generation {}\".format(\n",
    "                self.bestIndividual, self.bestFitness, self.bestfoundAt\n",
    "            )\n",
    "        )"
   ]
  },
  {
   "cell_type": "code",
   "execution_count": 3,
   "metadata": {
    "id": "Zfgxobwhqw_r"
   },
   "outputs": [],
   "source": [
    "# function to test knapsack optimisation using a given sets of parameters\n",
    "def optimiseKnapsack(\n",
    "    numAvailableItems,\n",
    "    capacity,\n",
    "    maxWeightPerItem,\n",
    "    maxValuePerItem,\n",
    "    populationSize,\n",
    "    numGenerations,\n",
    "    patience=500,\n",
    "    verbose=False,\n",
    "):\n",
    "    itemList = []\n",
    "    for i in range(numAvailableItems):\n",
    "        itemList.append(\n",
    "            Item(\n",
    "                random.randint(1, maxWeightPerItem), random.randint(1, maxValuePerItem)\n",
    "            )\n",
    "        )\n",
    "\n",
    "    print(\"Available Items:\")\n",
    "    print(\"weights \" + str([x.weight for x in itemList]))\n",
    "    print(\"values \" + str([x.value for x in itemList]))\n",
    "\n",
    "    k = Knapsack(\n",
    "        itemList, capacity, populationSize, numGenerations, patience, verbose=verbose\n",
    "    )\n",
    "    k.run()\n",
    "    plt.plot(k.listOfBestFitness)\n",
    "    plt.xlabel(\"Generation\")\n",
    "    plt.ylabel(\"Best Fitness\")\n",
    "    plt.title(\"Best Fitness over Generations\")\n",
    "    plt.show()"
   ]
  },
  {
   "cell_type": "markdown",
   "metadata": {
    "id": "LJf8S9yCfVPF"
   },
   "source": [
    "# Test the GA algorithm on knapsack problems with different parameters\n"
   ]
  },
  {
   "cell_type": "markdown",
   "metadata": {
    "id": "O6zFVS4LjHZ0"
   },
   "source": [
    "Valid solution have fitness>0 such that fitness increases with object value. Invalid solutions have a fitnees < 0.\n"
   ]
  },
  {
   "cell_type": "code",
   "execution_count": 4,
   "metadata": {
    "colab": {
     "base_uri": "https://localhost:8080/",
     "height": 601
    },
    "id": "HmI9n8-EwiQB",
    "outputId": "9ef33848-3eaa-4175-b737-5288f46af99b"
   },
   "outputs": [
    {
     "name": "stdout",
     "output_type": "stream",
     "text": [
      "Available Items:\n",
      "weights [8, 5, 4, 4, 2, 8, 8, 1, 9, 10, 9, 9, 1, 4, 5, 3, 5, 1, 10, 6, 3, 3, 10, 3, 10, 4, 5, 9, 10, 6, 7, 8, 5, 1, 2, 10, 1, 9, 7, 4, 9, 1, 9, 2, 1, 5, 1, 2, 2, 5]\n",
      "values [14, 2, 1, 8, 5, 19, 13, 8, 5, 19, 2, 16, 7, 17, 16, 18, 2, 19, 2, 8, 7, 16, 12, 5, 4, 19, 20, 20, 14, 4, 19, 7, 4, 20, 19, 17, 14, 11, 8, 3, 16, 16, 6, 18, 5, 11, 16, 6, 9, 10]\n",
      "finished intitialisation\n",
      "Stopped after 802 generations\n",
      "Best individual is [0, 0, 0, 1, 1, 0, 0, 0, 0, 0, 0, 0, 0, 1, 0, 0, 0, 1, 0, 1, 1, 0, 0, 0, 0, 1, 0, 0, 0, 0, 0, 0, 0, 0, 1, 1, 1, 0, 0, 0, 0, 1, 0, 1, 1, 1, 1, 1, 0, 0] ; fitness value is 205 ; found at generation 303\n"
     ]
    },
    {
     "data": {
      "image/png": "[encoded data removed]",
      "text/plain": [
       "<Figure size 640x480 with 1 Axes>"
      ]
     },
     "metadata": {},
     "output_type": "display_data"
    }
   ],
   "source": [
    "# parameters related to the knapsack problem itself regardless of the algorithm used for solving it\n",
    "numAvailableItems = 50\n",
    "capacity = 50\n",
    "maxWeightPerItem = 20\n",
    "maxValuePerItem = 10\n",
    "\n",
    "\n",
    "# parameters related to the GA algorithm\n",
    "populationSize = 500\n",
    "numGenerations = 1000\n",
    "patience = 500  # determines condition for early stopping if no better individuals are found for a specific number of iterations\n",
    "\n",
    "optimiseKnapsack(\n",
    "    numAvailableItems,\n",
    "    capacity,\n",
    "    maxWeightPerItem,\n",
    "    maxValuePerItem,\n",
    "    populationSize,\n",
    "    numGenerations,\n",
    "    patience=patience,\n",
    "    verbose=False,\n",
    ")"
   ]
  },
  {
   "cell_type": "markdown",
   "metadata": {
    "id": "sFK9Xxs9gg91"
   },
   "source": [
    "# Lab Tasks\n"
   ]
  },
  {
   "cell_type": "markdown",
   "metadata": {
    "id": "-9zMijcegoow"
   },
   "source": [
    "1.  Make a slight change the parameters of the knapsack problem one at a time and run the GA to find a solution. Notice the effect on the diffulty of finding a solution.\n",
    "2.  Is our GA algorithm still able to find a valid solution for difficult problems.\n",
    "3.  What parameters have the most impact?\n"
   ]
  },
  {
   "cell_type": "code",
   "execution_count": null,
   "metadata": {
    "id": "TJIS6B7sh7Ah"
   },
   "outputs": [],
   "source": [
    "# to do : change the parameters of the knapsack problem one at a time and run the GA to find a solution. Notice the effect on the diffulty of finding a solution\n",
    "#"
   ]
  },
  {
   "cell_type": "markdown",
   "metadata": {
    "id": "ShfesfqTh5yk"
   },
   "source": [
    "4.  Can changing the parameters of the GA algorithms enable finding a valid solution?\n"
   ]
  },
  {
   "cell_type": "code",
   "execution_count": null,
   "metadata": {
    "id": "-bL-FJYoiv8_"
   },
   "outputs": [],
   "source": [
    "# to do :\n",
    "\n",
    "# change the parameters of the GA algorithm\n",
    "# test again to see if we can get a valid solution"
   ]
  },
  {
   "cell_type": "markdown",
   "metadata": {
    "id": "ECSFm5URjwNo"
   },
   "source": [
    "5. Use the original parameters given and set capacity = 35. Can you find any valid solution? Can we change the fitness function to help find any better solutions?? Discuss with your tutor if you are not sure.\n"
   ]
  }
 ],
 "metadata": {
  "colab": {
   "provenance": []
  },
  "kernelspec": {
   "display_name": "Python 3 (ipykernel)",
   "language": "python",
   "name": "python3"
  },
  "language_info": {
   "codemirror_mode": {
    "name": "ipython",
    "version": 3
   },
   "file_extension": ".py",
   "mimetype": "text/x-python",
   "name": "python",
   "nbconvert_exporter": "python",
   "pygments_lexer": "ipython3",
   "version": "3.9.13"
  }
 },
 "nbformat": 4,
 "nbformat_minor": 1
}
