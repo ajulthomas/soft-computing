{
 "cells": [
  {
   "cell_type": "markdown",
   "metadata": {},
   "source": [
    "# Regression - California Housing Dataset\n",
    "\n",
    "\n",
    "The data has the following features: longitude, Latitude, housing_median_age, total_rooms, total_bedrooms, population, households, median_income, ocean_proximity. \n",
    "\n",
    "\n",
    "The target is: median_house_value"
   ]
  },
  {
   "cell_type": "code",
   "execution_count": null,
   "metadata": {},
   "outputs": [],
   "source": []
  }
 ],
 "metadata": {
  "kernelspec": {
   "display_name": "base",
   "language": "python",
   "name": "python3"
  },
  "language_info": {
   "name": "python",
   "version": "3.11.5"
  }
 },
 "nbformat": 4,
 "nbformat_minor": 2
}
